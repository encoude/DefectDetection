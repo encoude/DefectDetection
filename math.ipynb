{
 "cells": [
  {
   "cell_type": "code",
   "execution_count": 12,
   "metadata": {},
   "outputs": [],
   "source": [
    "import sympy as sp\n",
    "x,y = sp.symbols('x y')\n",
    "u = sp.Function('u')(x, y)\n",
    "pde = sp.Eq(x * sp.diff(u,x) - 3 * y * sp.diff(u,y),2 * x**2 * u)\n",
    "solution = sp.pdsolve(pde)"
   ]
  }
 ],
 "metadata": {
  "kernelspec": {
   "display_name": "Yolov10",
   "language": "python",
   "name": "python3"
  },
  "language_info": {
   "codemirror_mode": {
    "name": "ipython",
    "version": 3
   },
   "file_extension": ".py",
   "mimetype": "text/x-python",
   "name": "python",
   "nbconvert_exporter": "python",
   "pygments_lexer": "ipython3",
   "version": "3.9.20"
  }
 },
 "nbformat": 4,
 "nbformat_minor": 2
}
